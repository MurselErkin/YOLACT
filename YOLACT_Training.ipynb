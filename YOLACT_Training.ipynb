{
  "nbformat": 4,
  "nbformat_minor": 0,
  "metadata": {
    "colab": {
      "provenance": [],
      "include_colab_link": true
    },
    "kernelspec": {
      "name": "python3",
      "display_name": "Python 3"
    },
    "accelerator": "GPU",
    "gpuClass": "standard"
  },
  "cells": [
    {
      "cell_type": "markdown",
      "metadata": {
        "id": "view-in-github",
        "colab_type": "text"
      },
      "source": [
        "<a href=\"https://colab.research.google.com/github/MurselErkin/YOLACT/blob/main/YOLACT_Training.ipynb\" target=\"_parent\"><img src=\"https://colab.research.google.com/assets/colab-badge.svg\" alt=\"Open In Colab\"/></a>"
      ]
    },
    {
      "cell_type": "markdown",
      "metadata": {
        "id": "YWzKi-xiGX-i"
      },
      "source": [
        "# YOLACT Google Colab \n",
        "Gruppe 5\n",
        "\n",
        "\n",
        "\n"
      ]
    },
    {
      "cell_type": "markdown",
      "metadata": {
        "id": "sPSX2B9oImsQ"
      },
      "source": [
        "# Initial Setup\n",
        "First, we install some Python libraries. Google Colab probably has these requirements already, but better to include them than to break later."
      ]
    },
    {
      "cell_type": "code",
      "metadata": {
        "id": "cU0BZLJHGSwn",
        "colab": {
          "base_uri": "https://localhost:8080/"
        },
        "outputId": "2801f411-0400-4d08-957b-1be86dbf6560"
      },
      "source": [
        "# Cython needs to be installed before pycocotools\n",
        "!pip install cython\n",
        "!pip install opencv-python pillow pycocotools matplotlib"
      ],
      "execution_count": 4,
      "outputs": [
        {
          "output_type": "stream",
          "name": "stdout",
          "text": [
            "Looking in indexes: https://pypi.org/simple, https://us-python.pkg.dev/colab-wheels/public/simple/\n",
            "Requirement already satisfied: cython in /usr/local/lib/python3.8/dist-packages (0.29.32)\n",
            "Looking in indexes: https://pypi.org/simple, https://us-python.pkg.dev/colab-wheels/public/simple/\n",
            "Requirement already satisfied: opencv-python in /usr/local/lib/python3.8/dist-packages (4.6.0.66)\n",
            "Requirement already satisfied: pillow in /usr/local/lib/python3.8/dist-packages (7.1.2)\n",
            "Requirement already satisfied: pycocotools in /usr/local/lib/python3.8/dist-packages (2.0.6)\n",
            "Requirement already satisfied: matplotlib in /usr/local/lib/python3.8/dist-packages (3.2.2)\n",
            "Requirement already satisfied: numpy>=1.17.3 in /usr/local/lib/python3.8/dist-packages (from opencv-python) (1.21.6)\n",
            "Requirement already satisfied: cycler>=0.10 in /usr/local/lib/python3.8/dist-packages (from matplotlib) (0.11.0)\n",
            "Requirement already satisfied: kiwisolver>=1.0.1 in /usr/local/lib/python3.8/dist-packages (from matplotlib) (1.4.4)\n",
            "Requirement already satisfied: python-dateutil>=2.1 in /usr/local/lib/python3.8/dist-packages (from matplotlib) (2.8.2)\n",
            "Requirement already satisfied: pyparsing!=2.0.4,!=2.1.2,!=2.1.6,>=2.0.1 in /usr/local/lib/python3.8/dist-packages (from matplotlib) (3.0.9)\n",
            "Requirement already satisfied: six>=1.5 in /usr/local/lib/python3.8/dist-packages (from python-dateutil>=2.1->matplotlib) (1.15.0)\n"
          ]
        }
      ]
    },
    {
      "cell_type": "code",
      "metadata": {
        "id": "EorT6buddx4X",
        "colab": {
          "base_uri": "https://localhost:8080/"
        },
        "outputId": "c92001f4-13da-479e-d58a-ea43f8396a87"
      },
      "source": [
        "# Downgrade torch to accommodate DCNv2\n",
        "!pip install torchvision==0.14\n",
        "!pip install torch==1.13.0\n"
      ],
      "execution_count": 56,
      "outputs": [
        {
          "output_type": "stream",
          "name": "stdout",
          "text": [
            "Looking in indexes: https://pypi.org/simple, https://us-python.pkg.dev/colab-wheels/public/simple/\n",
            "Requirement already satisfied: torchvision==0.14 in /usr/local/lib/python3.8/dist-packages (0.14.0)\n",
            "Collecting torch==1.13.0\n",
            "  Using cached torch-1.13.0-cp38-cp38-manylinux1_x86_64.whl (890.2 MB)\n",
            "Requirement already satisfied: typing-extensions in /usr/local/lib/python3.8/dist-packages (from torchvision==0.14) (4.4.0)\n",
            "Requirement already satisfied: pillow!=8.3.*,>=5.3.0 in /usr/local/lib/python3.8/dist-packages (from torchvision==0.14) (7.1.2)\n",
            "Requirement already satisfied: requests in /usr/local/lib/python3.8/dist-packages (from torchvision==0.14) (2.25.1)\n",
            "Requirement already satisfied: numpy in /usr/local/lib/python3.8/dist-packages (from torchvision==0.14) (1.21.6)\n",
            "Requirement already satisfied: nvidia-cudnn-cu11==8.5.0.96 in /usr/local/lib/python3.8/dist-packages (from torch==1.13.0->torchvision==0.14) (8.5.0.96)\n",
            "Requirement already satisfied: nvidia-cublas-cu11==11.10.3.66 in /usr/local/lib/python3.8/dist-packages (from torch==1.13.0->torchvision==0.14) (11.10.3.66)\n",
            "Requirement already satisfied: nvidia-cuda-nvrtc-cu11==11.7.99 in /usr/local/lib/python3.8/dist-packages (from torch==1.13.0->torchvision==0.14) (11.7.99)\n",
            "Requirement already satisfied: nvidia-cuda-runtime-cu11==11.7.99 in /usr/local/lib/python3.8/dist-packages (from torch==1.13.0->torchvision==0.14) (11.7.99)\n",
            "Requirement already satisfied: setuptools in /usr/local/lib/python3.8/dist-packages (from nvidia-cublas-cu11==11.10.3.66->torch==1.13.0->torchvision==0.14) (57.4.0)\n",
            "Requirement already satisfied: wheel in /usr/local/lib/python3.8/dist-packages (from nvidia-cublas-cu11==11.10.3.66->torch==1.13.0->torchvision==0.14) (0.38.4)\n",
            "Requirement already satisfied: urllib3<1.27,>=1.21.1 in /usr/local/lib/python3.8/dist-packages (from requests->torchvision==0.14) (1.24.3)\n",
            "Requirement already satisfied: certifi>=2017.4.17 in /usr/local/lib/python3.8/dist-packages (from requests->torchvision==0.14) (2022.12.7)\n",
            "Requirement already satisfied: chardet<5,>=3.0.2 in /usr/local/lib/python3.8/dist-packages (from requests->torchvision==0.14) (4.0.0)\n",
            "Requirement already satisfied: idna<3,>=2.5 in /usr/local/lib/python3.8/dist-packages (from requests->torchvision==0.14) (2.10)\n",
            "Installing collected packages: torch\n",
            "  Attempting uninstall: torch\n",
            "    Found existing installation: torch 1.11.0\n",
            "    Uninstalling torch-1.11.0:\n",
            "      Successfully uninstalled torch-1.11.0\n",
            "Successfully installed torch-1.13.0\n",
            "Looking in indexes: https://pypi.org/simple, https://us-python.pkg.dev/colab-wheels/public/simple/\n",
            "Requirement already satisfied: torch==1.13.0 in /usr/local/lib/python3.8/dist-packages (1.13.0)\n",
            "Requirement already satisfied: nvidia-cuda-nvrtc-cu11==11.7.99 in /usr/local/lib/python3.8/dist-packages (from torch==1.13.0) (11.7.99)\n",
            "Requirement already satisfied: nvidia-cudnn-cu11==8.5.0.96 in /usr/local/lib/python3.8/dist-packages (from torch==1.13.0) (8.5.0.96)\n",
            "Requirement already satisfied: nvidia-cuda-runtime-cu11==11.7.99 in /usr/local/lib/python3.8/dist-packages (from torch==1.13.0) (11.7.99)\n",
            "Requirement already satisfied: nvidia-cublas-cu11==11.10.3.66 in /usr/local/lib/python3.8/dist-packages (from torch==1.13.0) (11.10.3.66)\n",
            "Requirement already satisfied: typing-extensions in /usr/local/lib/python3.8/dist-packages (from torch==1.13.0) (4.4.0)\n",
            "Requirement already satisfied: wheel in /usr/local/lib/python3.8/dist-packages (from nvidia-cublas-cu11==11.10.3.66->torch==1.13.0) (0.38.4)\n",
            "Requirement already satisfied: setuptools in /usr/local/lib/python3.8/dist-packages (from nvidia-cublas-cu11==11.10.3.66->torch==1.13.0) (57.4.0)\n"
          ]
        }
      ]
    },
    {
      "cell_type": "markdown",
      "metadata": {
        "id": "i4EMaf9wI-_M"
      },
      "source": [
        "## Clone YOLACT from GitHub\n",
        "Let's get that github repo! If anything in this notebook breaks, check the repo in case they've made updates."
      ]
    },
    {
      "cell_type": "code",
      "metadata": {
        "id": "Jpmc_BiNI98H",
        "colab": {
          "base_uri": "https://localhost:8080/"
        },
        "outputId": "242796ff-6dc1-4871-c2bc-652bd04c8731"
      },
      "source": [
        "# Make sure we're in the top folder\n",
        "%cd /content\n",
        "\n",
        "# Clone the repo\n",
        "!git clone https://github.com/dbolya/yolact.git"
      ],
      "execution_count": 47,
      "outputs": [
        {
          "output_type": "stream",
          "name": "stdout",
          "text": [
            "/content\n",
            "fatal: destination path 'yolact' already exists and is not an empty directory.\n"
          ]
        }
      ]
    },
    {
      "cell_type": "markdown",
      "metadata": {
        "id": "mbb_tE0EJNFj"
      },
      "source": [
        "## DCNv2\n",
        "The DCNv2 external library is needed for this to work, so we'll build it now.\n",
        "\n",
        "ook."
      ]
    },
    {
      "cell_type": "markdown",
      "source": [],
      "metadata": {
        "id": "dhL2ruKJ96QL"
      }
    },
    {
      "cell_type": "code",
      "metadata": {
        "id": "K7XrENaqJU1C",
        "colab": {
          "base_uri": "https://localhost:8080/"
        },
        "outputId": "d8ee86cf-5601-4fc6-ccd4-10cec23bb5a0"
      },
      "source": [
        "!apt-get install ninja-build\n",
        "%cd /content/yolact/external/DCNv2/\n",
        "!python setup.py clean\n",
        "!python setup.py build_ext --inplace --debug\n"
      ],
      "execution_count": 60,
      "outputs": [
        {
          "output_type": "stream",
          "name": "stdout",
          "text": [
            "Reading package lists... Done\n",
            "Building dependency tree       \n",
            "Reading state information... Done\n",
            "ninja-build is already the newest version (1.8.2-1).\n",
            "The following package was automatically installed and is no longer required:\n",
            "  libnvidia-common-460\n",
            "Use 'apt autoremove' to remove it.\n",
            "0 upgraded, 0 newly installed, 0 to remove and 20 not upgraded.\n",
            "/content/yolact/external/DCNv2\n",
            "running clean\n",
            "removing 'build/temp.linux-x86_64-3.8' (and everything under it)\n",
            "removing 'build'\n",
            "running build_ext\n",
            "/usr/local/lib/python3.8/dist-packages/torch/utils/cpp_extension.py:387: UserWarning: The detected CUDA version (11.2) has a minor version mismatch with the version that was used to compile PyTorch (11.7). Most likely this shouldn't be a problem.\n",
            "  warnings.warn(CUDA_MISMATCH_WARN.format(cuda_str_version, torch.version.cuda))\n",
            "building '_ext' extension\n",
            "creating /content/yolact/external/DCNv2/build\n",
            "creating /content/yolact/external/DCNv2/build/temp.linux-x86_64-3.8\n",
            "creating /content/yolact/external/DCNv2/build/temp.linux-x86_64-3.8/content\n",
            "creating /content/yolact/external/DCNv2/build/temp.linux-x86_64-3.8/content/yolact\n",
            "creating /content/yolact/external/DCNv2/build/temp.linux-x86_64-3.8/content/yolact/external\n",
            "creating /content/yolact/external/DCNv2/build/temp.linux-x86_64-3.8/content/yolact/external/DCNv2\n",
            "creating /content/yolact/external/DCNv2/build/temp.linux-x86_64-3.8/content/yolact/external/DCNv2/src\n",
            "creating /content/yolact/external/DCNv2/build/temp.linux-x86_64-3.8/content/yolact/external/DCNv2/src/cpu\n",
            "creating /content/yolact/external/DCNv2/build/temp.linux-x86_64-3.8/content/yolact/external/DCNv2/src/cuda\n",
            "Emitting ninja build file /content/yolact/external/DCNv2/build/temp.linux-x86_64-3.8/build.ninja...\n",
            "Compiling objects...\n",
            "Allowing ninja to set a default number of workers... (overridable by setting the environment variable MAX_JOBS=N)\n",
            "[1/5] /usr/local/cuda/bin/nvcc  -g -DWITH_CUDA -I/content/yolact/external/DCNv2/src -I/usr/local/lib/python3.8/dist-packages/torch/include -I/usr/local/lib/python3.8/dist-packages/torch/include/torch/csrc/api/include -I/usr/local/lib/python3.8/dist-packages/torch/include/TH -I/usr/local/lib/python3.8/dist-packages/torch/include/THC -I/usr/local/cuda/include -I/usr/include/python3.8 -c -c /content/yolact/external/DCNv2/src/cuda/dcn_v2_psroi_pooling_cuda.cu -o /content/yolact/external/DCNv2/build/temp.linux-x86_64-3.8/content/yolact/external/DCNv2/src/cuda/dcn_v2_psroi_pooling_cuda.o -D__CUDA_NO_HALF_OPERATORS__ -D__CUDA_NO_HALF_CONVERSIONS__ -D__CUDA_NO_BFLOAT16_CONVERSIONS__ -D__CUDA_NO_HALF2_OPERATORS__ --expt-relaxed-constexpr --compiler-options ''\"'\"'-fPIC'\"'\"'' -DCUDA_HAS_FP16=1 -D__CUDA_NO_HALF_OPERATORS__ -D__CUDA_NO_HALF_CONVERSIONS__ -D__CUDA_NO_HALF2_OPERATORS__ -DTORCH_API_INCLUDE_EXTENSION_H '-DPYBIND11_COMPILER_TYPE=\"_gcc\"' '-DPYBIND11_STDLIB=\"_libstdcpp\"' '-DPYBIND11_BUILD_ABI=\"_cxxabi1011\"' -DTORCH_EXTENSION_NAME=_ext -D_GLIBCXX_USE_CXX11_ABI=0 -gencode=arch=compute_75,code=compute_75 -gencode=arch=compute_75,code=sm_75 -std=c++14\n",
            "FAILED: /content/yolact/external/DCNv2/build/temp.linux-x86_64-3.8/content/yolact/external/DCNv2/src/cuda/dcn_v2_psroi_pooling_cuda.o \n",
            "/usr/local/cuda/bin/nvcc  -g -DWITH_CUDA -I/content/yolact/external/DCNv2/src -I/usr/local/lib/python3.8/dist-packages/torch/include -I/usr/local/lib/python3.8/dist-packages/torch/include/torch/csrc/api/include -I/usr/local/lib/python3.8/dist-packages/torch/include/TH -I/usr/local/lib/python3.8/dist-packages/torch/include/THC -I/usr/local/cuda/include -I/usr/include/python3.8 -c -c /content/yolact/external/DCNv2/src/cuda/dcn_v2_psroi_pooling_cuda.cu -o /content/yolact/external/DCNv2/build/temp.linux-x86_64-3.8/content/yolact/external/DCNv2/src/cuda/dcn_v2_psroi_pooling_cuda.o -D__CUDA_NO_HALF_OPERATORS__ -D__CUDA_NO_HALF_CONVERSIONS__ -D__CUDA_NO_BFLOAT16_CONVERSIONS__ -D__CUDA_NO_HALF2_OPERATORS__ --expt-relaxed-constexpr --compiler-options ''\"'\"'-fPIC'\"'\"'' -DCUDA_HAS_FP16=1 -D__CUDA_NO_HALF_OPERATORS__ -D__CUDA_NO_HALF_CONVERSIONS__ -D__CUDA_NO_HALF2_OPERATORS__ -DTORCH_API_INCLUDE_EXTENSION_H '-DPYBIND11_COMPILER_TYPE=\"_gcc\"' '-DPYBIND11_STDLIB=\"_libstdcpp\"' '-DPYBIND11_BUILD_ABI=\"_cxxabi1011\"' -DTORCH_EXTENSION_NAME=_ext -D_GLIBCXX_USE_CXX11_ABI=0 -gencode=arch=compute_75,code=compute_75 -gencode=arch=compute_75,code=sm_75 -std=c++14\n",
            "/content/yolact/external/DCNv2/src/cuda/dcn_v2_psroi_pooling_cuda.cu:18:10: fatal error: torch/THC/THC.h: No such file or directory\n",
            " #include <torch/THC/THC.h>\n",
            "          ^~~~~~~~~~~~~~~~~\n",
            "compilation terminated.\n",
            "[2/5] c++ -MMD -MF /content/yolact/external/DCNv2/build/temp.linux-x86_64-3.8/content/yolact/external/DCNv2/src/cpu/dcn_v2_cpu.o.d -pthread -Wno-unused-result -Wsign-compare -DNDEBUG -g -fwrapv -O2 -Wall -g -fstack-protector-strong -Wformat -Werror=format-security -g -fwrapv -O2 -g -fstack-protector-strong -Wformat -Werror=format-security -Wdate-time -D_FORTIFY_SOURCE=2 -fPIC -g -DWITH_CUDA -I/content/yolact/external/DCNv2/src -I/usr/local/lib/python3.8/dist-packages/torch/include -I/usr/local/lib/python3.8/dist-packages/torch/include/torch/csrc/api/include -I/usr/local/lib/python3.8/dist-packages/torch/include/TH -I/usr/local/lib/python3.8/dist-packages/torch/include/THC -I/usr/local/cuda/include -I/usr/include/python3.8 -c -c /content/yolact/external/DCNv2/src/cpu/dcn_v2_cpu.cpp -o /content/yolact/external/DCNv2/build/temp.linux-x86_64-3.8/content/yolact/external/DCNv2/src/cpu/dcn_v2_cpu.o -DTORCH_API_INCLUDE_EXTENSION_H '-DPYBIND11_COMPILER_TYPE=\"_gcc\"' '-DPYBIND11_STDLIB=\"_libstdcpp\"' '-DPYBIND11_BUILD_ABI=\"_cxxabi1011\"' -DTORCH_EXTENSION_NAME=_ext -D_GLIBCXX_USE_CXX11_ABI=0 -std=c++14\n",
            "[3/5] c++ -MMD -MF /content/yolact/external/DCNv2/build/temp.linux-x86_64-3.8/content/yolact/external/DCNv2/src/vision.o.d -pthread -Wno-unused-result -Wsign-compare -DNDEBUG -g -fwrapv -O2 -Wall -g -fstack-protector-strong -Wformat -Werror=format-security -g -fwrapv -O2 -g -fstack-protector-strong -Wformat -Werror=format-security -Wdate-time -D_FORTIFY_SOURCE=2 -fPIC -g -DWITH_CUDA -I/content/yolact/external/DCNv2/src -I/usr/local/lib/python3.8/dist-packages/torch/include -I/usr/local/lib/python3.8/dist-packages/torch/include/torch/csrc/api/include -I/usr/local/lib/python3.8/dist-packages/torch/include/TH -I/usr/local/lib/python3.8/dist-packages/torch/include/THC -I/usr/local/cuda/include -I/usr/include/python3.8 -c -c /content/yolact/external/DCNv2/src/vision.cpp -o /content/yolact/external/DCNv2/build/temp.linux-x86_64-3.8/content/yolact/external/DCNv2/src/vision.o -DTORCH_API_INCLUDE_EXTENSION_H '-DPYBIND11_COMPILER_TYPE=\"_gcc\"' '-DPYBIND11_STDLIB=\"_libstdcpp\"' '-DPYBIND11_BUILD_ABI=\"_cxxabi1011\"' -DTORCH_EXTENSION_NAME=_ext -D_GLIBCXX_USE_CXX11_ABI=0 -std=c++14\n",
            "In file included from /content/yolact/external/DCNv2/src/vision.cpp:2:0:\n",
            "/content/yolact/external/DCNv2/src/dcn_v2.h: In function ‘at::Tensor dcn_v2_forward(const at::Tensor&, const at::Tensor&, const at::Tensor&, const at::Tensor&, const at::Tensor&, int, int, int, int, int, int, int, int, int)’:\n",
            "/content/yolact/external/DCNv2/src/dcn_v2.h:25:20: warning: ‘at::DeprecatedTypeProperties& at::Tensor::type() const’ is deprecated: Tensor.type() is deprecated. Instead use Tensor.options(), which in many cases (e.g. in a constructor) is a drop-in replacement. If you were using data from type(), that is now available from Tensor itself, so instead of tensor.type().scalar_type(), use tensor.scalar_type() instead and instead of tensor.type().backend() use tensor.device(). [-Wdeprecated-declarations]\n",
            "     if (input.type().is_cuda())\n",
            "                    ^\n",
            "In file included from /usr/local/lib/python3.8/dist-packages/torch/include/ATen/core/Tensor.h:3:0,\n",
            "                 from /usr/local/lib/python3.8/dist-packages/torch/include/ATen/Tensor.h:3,\n",
            "                 from /usr/local/lib/python3.8/dist-packages/torch/include/torch/csrc/autograd/function_hook.h:3,\n",
            "                 from /usr/local/lib/python3.8/dist-packages/torch/include/torch/csrc/autograd/cpp_hook.h:2,\n",
            "                 from /usr/local/lib/python3.8/dist-packages/torch/include/torch/csrc/autograd/variable.h:6,\n",
            "                 from /usr/local/lib/python3.8/dist-packages/torch/include/torch/csrc/autograd/autograd.h:3,\n",
            "                 from /usr/local/lib/python3.8/dist-packages/torch/include/torch/csrc/api/include/torch/autograd.h:3,\n",
            "                 from /usr/local/lib/python3.8/dist-packages/torch/include/torch/csrc/api/include/torch/all.h:7,\n",
            "                 from /usr/local/lib/python3.8/dist-packages/torch/include/torch/extension.h:4,\n",
            "                 from /content/yolact/external/DCNv2/src/cpu/vision.h:2,\n",
            "                 from /content/yolact/external/DCNv2/src/dcn_v2.h:3,\n",
            "                 from /content/yolact/external/DCNv2/src/vision.cpp:2:\n",
            "/usr/local/lib/python3.8/dist-packages/torch/include/ATen/core/TensorBody.h:216:30: note: declared here\n",
            "   DeprecatedTypeProperties & type() const {\n",
            "                              ^~~~\n",
            "In file included from /content/yolact/external/DCNv2/src/vision.cpp:2:0:\n",
            "/content/yolact/external/DCNv2/src/dcn_v2.h: In function ‘std::vector<at::Tensor> dcn_v2_backward(const at::Tensor&, const at::Tensor&, const at::Tensor&, const at::Tensor&, const at::Tensor&, const at::Tensor&, int, int, int, int, int, int, int, int, int)’:\n",
            "/content/yolact/external/DCNv2/src/dcn_v2.h:54:20: warning: ‘at::DeprecatedTypeProperties& at::Tensor::type() const’ is deprecated: Tensor.type() is deprecated. Instead use Tensor.options(), which in many cases (e.g. in a constructor) is a drop-in replacement. If you were using data from type(), that is now available from Tensor itself, so instead of tensor.type().scalar_type(), use tensor.scalar_type() instead and instead of tensor.type().backend() use tensor.device(). [-Wdeprecated-declarations]\n",
            "     if (input.type().is_cuda())\n",
            "                    ^\n",
            "In file included from /usr/local/lib/python3.8/dist-packages/torch/include/ATen/core/Tensor.h:3:0,\n",
            "                 from /usr/local/lib/python3.8/dist-packages/torch/include/ATen/Tensor.h:3,\n",
            "                 from /usr/local/lib/python3.8/dist-packages/torch/include/torch/csrc/autograd/function_hook.h:3,\n",
            "                 from /usr/local/lib/python3.8/dist-packages/torch/include/torch/csrc/autograd/cpp_hook.h:2,\n",
            "                 from /usr/local/lib/python3.8/dist-packages/torch/include/torch/csrc/autograd/variable.h:6,\n",
            "                 from /usr/local/lib/python3.8/dist-packages/torch/include/torch/csrc/autograd/autograd.h:3,\n",
            "                 from /usr/local/lib/python3.8/dist-packages/torch/include/torch/csrc/api/include/torch/autograd.h:3,\n",
            "                 from /usr/local/lib/python3.8/dist-packages/torch/include/torch/csrc/api/include/torch/all.h:7,\n",
            "                 from /usr/local/lib/python3.8/dist-packages/torch/include/torch/extension.h:4,\n",
            "                 from /content/yolact/external/DCNv2/src/cpu/vision.h:2,\n",
            "                 from /content/yolact/external/DCNv2/src/dcn_v2.h:3,\n",
            "                 from /content/yolact/external/DCNv2/src/vision.cpp:2:\n",
            "/usr/local/lib/python3.8/dist-packages/torch/include/ATen/core/TensorBody.h:216:30: note: declared here\n",
            "   DeprecatedTypeProperties & type() const {\n",
            "                              ^~~~\n",
            "In file included from /content/yolact/external/DCNv2/src/vision.cpp:2:0:\n",
            "/content/yolact/external/DCNv2/src/dcn_v2.h: In function ‘std::tuple<at::Tensor, at::Tensor> dcn_v2_psroi_pooling_forward(const at::Tensor&, const at::Tensor&, const at::Tensor&, int, float, int, int, int, int, int, float)’:\n",
            "/content/yolact/external/DCNv2/src/dcn_v2.h:88:20: warning: ‘at::DeprecatedTypeProperties& at::Tensor::type() const’ is deprecated: Tensor.type() is deprecated. Instead use Tensor.options(), which in many cases (e.g. in a constructor) is a drop-in replacement. If you were using data from type(), that is now available from Tensor itself, so instead of tensor.type().scalar_type(), use tensor.scalar_type() instead and instead of tensor.type().backend() use tensor.device(). [-Wdeprecated-declarations]\n",
            "     if (input.type().is_cuda())\n",
            "                    ^\n",
            "In file included from /usr/local/lib/python3.8/dist-packages/torch/include/ATen/core/Tensor.h:3:0,\n",
            "                 from /usr/local/lib/python3.8/dist-packages/torch/include/ATen/Tensor.h:3,\n",
            "                 from /usr/local/lib/python3.8/dist-packages/torch/include/torch/csrc/autograd/function_hook.h:3,\n",
            "                 from /usr/local/lib/python3.8/dist-packages/torch/include/torch/csrc/autograd/cpp_hook.h:2,\n",
            "                 from /usr/local/lib/python3.8/dist-packages/torch/include/torch/csrc/autograd/variable.h:6,\n",
            "                 from /usr/local/lib/python3.8/dist-packages/torch/include/torch/csrc/autograd/autograd.h:3,\n",
            "                 from /usr/local/lib/python3.8/dist-packages/torch/include/torch/csrc/api/include/torch/autograd.h:3,\n",
            "                 from /usr/local/lib/python3.8/dist-packages/torch/include/torch/csrc/api/include/torch/all.h:7,\n",
            "                 from /usr/local/lib/python3.8/dist-packages/torch/include/torch/extension.h:4,\n",
            "                 from /content/yolact/external/DCNv2/src/cpu/vision.h:2,\n",
            "                 from /content/yolact/external/DCNv2/src/dcn_v2.h:3,\n",
            "                 from /content/yolact/external/DCNv2/src/vision.cpp:2:\n",
            "/usr/local/lib/python3.8/dist-packages/torch/include/ATen/core/TensorBody.h:216:30: note: declared here\n",
            "   DeprecatedTypeProperties & type() const {\n",
            "                              ^~~~\n",
            "In file included from /content/yolact/external/DCNv2/src/vision.cpp:2:0:\n",
            "/content/yolact/external/DCNv2/src/dcn_v2.h: In function ‘std::tuple<at::Tensor, at::Tensor> dcn_v2_psroi_pooling_backward(const at::Tensor&, const at::Tensor&, const at::Tensor&, const at::Tensor&, const at::Tensor&, int, float, int, int, int, int, int, float)’:\n",
            "/content/yolact/external/DCNv2/src/dcn_v2.h:124:20: warning: ‘at::DeprecatedTypeProperties& at::Tensor::type() const’ is deprecated: Tensor.type() is deprecated. Instead use Tensor.options(), which in many cases (e.g. in a constructor) is a drop-in replacement. If you were using data from type(), that is now available from Tensor itself, so instead of tensor.type().scalar_type(), use tensor.scalar_type() instead and instead of tensor.type().backend() use tensor.device(). [-Wdeprecated-declarations]\n",
            "     if (input.type().is_cuda())\n",
            "                    ^\n",
            "In file included from /usr/local/lib/python3.8/dist-packages/torch/include/ATen/core/Tensor.h:3:0,\n",
            "                 from /usr/local/lib/python3.8/dist-packages/torch/include/ATen/Tensor.h:3,\n",
            "                 from /usr/local/lib/python3.8/dist-packages/torch/include/torch/csrc/autograd/function_hook.h:3,\n",
            "                 from /usr/local/lib/python3.8/dist-packages/torch/include/torch/csrc/autograd/cpp_hook.h:2,\n",
            "                 from /usr/local/lib/python3.8/dist-packages/torch/include/torch/csrc/autograd/variable.h:6,\n",
            "                 from /usr/local/lib/python3.8/dist-packages/torch/include/torch/csrc/autograd/autograd.h:3,\n",
            "                 from /usr/local/lib/python3.8/dist-packages/torch/include/torch/csrc/api/include/torch/autograd.h:3,\n",
            "                 from /usr/local/lib/python3.8/dist-packages/torch/include/torch/csrc/api/include/torch/all.h:7,\n",
            "                 from /usr/local/lib/python3.8/dist-packages/torch/include/torch/extension.h:4,\n",
            "                 from /content/yolact/external/DCNv2/src/cpu/vision.h:2,\n",
            "                 from /content/yolact/external/DCNv2/src/dcn_v2.h:3,\n",
            "                 from /content/yolact/external/DCNv2/src/vision.cpp:2:\n",
            "/usr/local/lib/python3.8/dist-packages/torch/include/ATen/core/TensorBody.h:216:30: note: declared here\n",
            "   DeprecatedTypeProperties & type() const {\n",
            "                              ^~~~\n",
            "ninja: build stopped: subcommand failed.\n",
            "Traceback (most recent call last):\n",
            "  File \"/usr/local/lib/python3.8/dist-packages/torch/utils/cpp_extension.py\", line 1900, in _run_ninja_build\n",
            "    subprocess.run(\n",
            "  File \"/usr/lib/python3.8/subprocess.py\", line 516, in run\n",
            "    raise CalledProcessError(retcode, process.args,\n",
            "subprocess.CalledProcessError: Command '['ninja', '-v']' returned non-zero exit status 1.\n",
            "\n",
            "The above exception was the direct cause of the following exception:\n",
            "\n",
            "Traceback (most recent call last):\n",
            "  File \"setup.py\", line 56, in <module>\n",
            "    setup(\n",
            "  File \"/usr/local/lib/python3.8/dist-packages/setuptools/__init__.py\", line 153, in setup\n",
            "    return distutils.core.setup(**attrs)\n",
            "  File \"/usr/lib/python3.8/distutils/core.py\", line 148, in setup\n",
            "    dist.run_commands()\n",
            "  File \"/usr/lib/python3.8/distutils/dist.py\", line 966, in run_commands\n",
            "    self.run_command(cmd)\n",
            "  File \"/usr/lib/python3.8/distutils/dist.py\", line 985, in run_command\n",
            "    cmd_obj.run()\n",
            "  File \"/usr/local/lib/python3.8/dist-packages/setuptools/command/build_ext.py\", line 79, in run\n",
            "    _build_ext.run(self)\n",
            "  File \"/usr/local/lib/python3.8/dist-packages/Cython/Distutils/old_build_ext.py\", line 186, in run\n",
            "    _build_ext.build_ext.run(self)\n",
            "  File \"/usr/lib/python3.8/distutils/command/build_ext.py\", line 340, in run\n",
            "    self.build_extensions()\n",
            "  File \"/usr/local/lib/python3.8/dist-packages/torch/utils/cpp_extension.py\", line 843, in build_extensions\n",
            "    build_ext.build_extensions(self)\n",
            "  File \"/usr/local/lib/python3.8/dist-packages/Cython/Distutils/old_build_ext.py\", line 195, in build_extensions\n",
            "    _build_ext.build_ext.build_extensions(self)\n",
            "  File \"/usr/lib/python3.8/distutils/command/build_ext.py\", line 449, in build_extensions\n",
            "    self._build_extensions_serial()\n",
            "  File \"/usr/lib/python3.8/distutils/command/build_ext.py\", line 474, in _build_extensions_serial\n",
            "    self.build_extension(ext)\n",
            "  File \"/usr/local/lib/python3.8/dist-packages/setuptools/command/build_ext.py\", line 202, in build_extension\n",
            "    _build_ext.build_extension(self, ext)\n",
            "  File \"/usr/lib/python3.8/distutils/command/build_ext.py\", line 528, in build_extension\n",
            "    objects = self.compiler.compile(sources,\n",
            "  File \"/usr/local/lib/python3.8/dist-packages/torch/utils/cpp_extension.py\", line 658, in unix_wrap_ninja_compile\n",
            "    _write_ninja_file_and_compile_objects(\n",
            "  File \"/usr/local/lib/python3.8/dist-packages/torch/utils/cpp_extension.py\", line 1573, in _write_ninja_file_and_compile_objects\n",
            "    _run_ninja_build(\n",
            "  File \"/usr/local/lib/python3.8/dist-packages/torch/utils/cpp_extension.py\", line 1916, in _run_ninja_build\n",
            "    raise RuntimeError(message) from e\n",
            "RuntimeError: Error compiling objects for extension\n"
          ]
        }
      ]
    },
    {
      "cell_type": "markdown",
      "metadata": {
        "id": "BryENed-JXF8"
      },
      "source": [
        "## Pretrained Weights\n",
        "In order to run inference, we'll need some pre-trained weights. The creator of the GitHub repo shared them on Google Drive. We're going to use a [helpful tool](https://github.com/chentinghao/download_google_drive) made by [chentinghao](https://github.com/chentinghao) to easily access the Drive file from Colab.\n",
        "\n",
        "If this stops working, it's probably because the weights moved to a different location. Check the YOLACT github repo to see where they went."
      ]
    },
    {
      "cell_type": "code",
      "metadata": {
        "id": "683HeW9lJ6cA",
        "colab": {
          "base_uri": "https://localhost:8080/"
        },
        "outputId": "2ffa2a4c-0576-41e7-d427-d3e269f35262"
      },
      "source": [
        "# Make sure we're in the top folder\n",
        "%cd /content\n",
        "\n",
        "# Clone the repo\n",
        "!git clone https://github.com/chentinghao/download_google_drive.git\n",
        "\n",
        "# Create a new directory for the pre-trained weights\n",
        "!mkdir -p /content/yolact/weights\n",
        "\n",
        "# Download the file\n",
        "!python ./download_google_drive/download_gdrive.py 1ZPu1YR2UzGHQD0o1rEqy-j5bmEm3lbyP ./yolact/weights/yolact_plus_resnet50_54_800000.pth"
      ],
      "execution_count": 40,
      "outputs": [
        {
          "output_type": "stream",
          "name": "stdout",
          "text": [
            "/content\n",
            "fatal: destination path 'download_google_drive' already exists and is not an empty directory.\n",
            "32.0kB [00:00, 107MB/s]\n"
          ]
        }
      ]
    },
    {
      "cell_type": "markdown",
      "metadata": {
        "id": "RytTtzjjKVXQ"
      },
      "source": [
        "# Get Test Images\n",
        "We'll download a few test images from the [COCO dataset](http://cocodataset.org/#explore). Feel free to try out your own images as well, but know that there are only 80 categories and they're not intended to cover everything, so if you upload a picture of a snake, a mouse, and a cat, only the cat will be detected."
      ]
    },
    {
      "cell_type": "code",
      "metadata": {
        "id": "OgbAWb-QKflZ",
        "colab": {
          "base_uri": "https://localhost:8080/"
        },
        "outputId": "f8ec5253-ee7d-453d-94b8-5c1e3d3291ec"
      },
      "source": [
        "# Make a new directory for the test images\n",
        "!mkdir /content/test_images\n",
        "\n",
        "# Move to the new directory\n",
        "%cd /content/test_images\n",
        "\n",
        "# Make a list of URLs from the COCO dataset\n",
        "get_imgs = ['http://farm8.staticflickr.com/7200/6946559805_7edf757660_z.jpg',\n",
        "            'http://farm3.staticflickr.com/2835/9520716824_51220b13d0_z.jpg',\n",
        "            'http://farm3.staticflickr.com/2817/10105052924_0c8d79e62c_z.jpg',\n",
        "            'https://farm3.staticflickr.com/2637/3679968895_37a79e55b3_z.jpg',\n",
        "            'https://farm8.staticflickr.com/7137/7705349298_6bea29cf1c_z.jpg',\n",
        "            'http://farm5.staticflickr.com/4105/4981945644_3f162314ed_z.jpg',\n",
        "            'http://farm1.staticflickr.com/40/101757885_a8fc40e273_z.jpg',\n",
        "            'http://farm3.staticflickr.com/2654/3897535041_fa8dd5570b_z.jpg']\n",
        "\n",
        "# Download all the images\n",
        "for img_url in get_imgs:\n",
        "  !wget {img_url} -nc\n",
        "\n",
        "# List the contents of the folder. Should have images.\n",
        "!pwd\n",
        "!ls"
      ],
      "execution_count": 19,
      "outputs": [
        {
          "output_type": "stream",
          "name": "stdout",
          "text": [
            "/content/test_images\n",
            "--2023-01-04 20:00:32--  http://farm8.staticflickr.com/7200/6946559805_7edf757660_z.jpg\n",
            "Resolving farm8.staticflickr.com (farm8.staticflickr.com)... 13.33.38.82, 2600:9000:229f:aa00:0:5a51:64c9:c681, 2600:9000:229f:ae00:0:5a51:64c9:c681, ...\n",
            "Connecting to farm8.staticflickr.com (farm8.staticflickr.com)|13.33.38.82|:80... connected.\n",
            "HTTP request sent, awaiting response... 301 Moved Permanently\n",
            "Location: https://farm8.staticflickr.com/7200/6946559805_7edf757660_z.jpg [following]\n",
            "--2023-01-04 20:00:32--  https://farm8.staticflickr.com/7200/6946559805_7edf757660_z.jpg\n",
            "Connecting to farm8.staticflickr.com (farm8.staticflickr.com)|13.33.38.82|:443... connected.\n",
            "HTTP request sent, awaiting response... 200 OK\n",
            "Length: unspecified [image/jpeg]\n",
            "Saving to: ‘6946559805_7edf757660_z.jpg’\n",
            "\n",
            "\r          694655980     [<=>                 ]       0  --.-KB/s               \r6946559805_7edf7576     [ <=>                ]  52.93K  --.-KB/s    in 0.002s  \n",
            "\n",
            "2023-01-04 20:00:32 (26.3 MB/s) - ‘6946559805_7edf757660_z.jpg’ saved [54199]\n",
            "\n",
            "--2023-01-04 20:00:32--  http://farm3.staticflickr.com/2835/9520716824_51220b13d0_z.jpg\n",
            "Resolving farm3.staticflickr.com (farm3.staticflickr.com)... 13.227.255.96, 2600:9000:229f:4800:0:5a51:64c9:c681, 2600:9000:229f:6c00:0:5a51:64c9:c681, ...\n",
            "Connecting to farm3.staticflickr.com (farm3.staticflickr.com)|13.227.255.96|:80... connected.\n",
            "HTTP request sent, awaiting response... 301 Moved Permanently\n",
            "Location: https://farm3.staticflickr.com/2835/9520716824_51220b13d0_z.jpg [following]\n",
            "--2023-01-04 20:00:32--  https://farm3.staticflickr.com/2835/9520716824_51220b13d0_z.jpg\n",
            "Connecting to farm3.staticflickr.com (farm3.staticflickr.com)|13.227.255.96|:443... connected.\n",
            "HTTP request sent, awaiting response... 200 OK\n",
            "Length: unspecified [image/jpeg]\n",
            "Saving to: ‘9520716824_51220b13d0_z.jpg’\n",
            "\n",
            "9520716824_51220b13     [ <=>                ]  99.04K  --.-KB/s    in 0.003s  \n",
            "\n",
            "2023-01-04 20:00:32 (38.1 MB/s) - ‘9520716824_51220b13d0_z.jpg’ saved [101413]\n",
            "\n",
            "--2023-01-04 20:00:33--  http://farm3.staticflickr.com/2817/10105052924_0c8d79e62c_z.jpg\n",
            "Resolving farm3.staticflickr.com (farm3.staticflickr.com)... 13.227.255.96, 2600:9000:229f:4800:0:5a51:64c9:c681, 2600:9000:229f:6c00:0:5a51:64c9:c681, ...\n",
            "Connecting to farm3.staticflickr.com (farm3.staticflickr.com)|13.227.255.96|:80... connected.\n",
            "HTTP request sent, awaiting response... 301 Moved Permanently\n",
            "Location: https://farm3.staticflickr.com/2817/10105052924_0c8d79e62c_z.jpg [following]\n",
            "--2023-01-04 20:00:33--  https://farm3.staticflickr.com/2817/10105052924_0c8d79e62c_z.jpg\n",
            "Connecting to farm3.staticflickr.com (farm3.staticflickr.com)|13.227.255.96|:443... connected.\n",
            "HTTP request sent, awaiting response... 200 OK\n",
            "Length: unspecified [image/jpeg]\n",
            "Saving to: ‘10105052924_0c8d79e62c_z.jpg’\n",
            "\n",
            "10105052924_0c8d79e     [ <=>                ]  93.06K  --.-KB/s    in 0.002s  \n",
            "\n",
            "2023-01-04 20:00:33 (53.8 MB/s) - ‘10105052924_0c8d79e62c_z.jpg’ saved [95295]\n",
            "\n",
            "--2023-01-04 20:00:33--  https://farm3.staticflickr.com/2637/3679968895_37a79e55b3_z.jpg\n",
            "Resolving farm3.staticflickr.com (farm3.staticflickr.com)... 13.227.255.96, 2600:9000:229f:4800:0:5a51:64c9:c681, 2600:9000:229f:6c00:0:5a51:64c9:c681, ...\n",
            "Connecting to farm3.staticflickr.com (farm3.staticflickr.com)|13.227.255.96|:443... connected.\n",
            "HTTP request sent, awaiting response... 200 OK\n",
            "Length: unspecified [image/jpeg]\n",
            "Saving to: ‘3679968895_37a79e55b3_z.jpg’\n",
            "\n",
            "3679968895_37a79e55     [ <=>                ]  63.69K  --.-KB/s    in 0.001s  \n",
            "\n",
            "2023-01-04 20:00:33 (44.1 MB/s) - ‘3679968895_37a79e55b3_z.jpg’ saved [65217]\n",
            "\n",
            "--2023-01-04 20:00:33--  https://farm8.staticflickr.com/7137/7705349298_6bea29cf1c_z.jpg\n",
            "Resolving farm8.staticflickr.com (farm8.staticflickr.com)... 13.33.38.82, 2600:9000:229f:aa00:0:5a51:64c9:c681, 2600:9000:229f:ae00:0:5a51:64c9:c681, ...\n",
            "Connecting to farm8.staticflickr.com (farm8.staticflickr.com)|13.33.38.82|:443... connected.\n",
            "HTTP request sent, awaiting response... 200 OK\n",
            "Length: unspecified [image/jpeg]\n",
            "Saving to: ‘7705349298_6bea29cf1c_z.jpg’\n",
            "\n",
            "7705349298_6bea29cf     [ <=>                ]  58.37K  --.-KB/s    in 0.002s  \n",
            "\n",
            "2023-01-04 20:00:33 (35.2 MB/s) - ‘7705349298_6bea29cf1c_z.jpg’ saved [59767]\n",
            "\n",
            "--2023-01-04 20:00:33--  http://farm5.staticflickr.com/4105/4981945644_3f162314ed_z.jpg\n",
            "Resolving farm5.staticflickr.com (farm5.staticflickr.com)... 13.227.255.96, 2600:9000:229f:fe00:0:5a51:64c9:c681, 2600:9000:229f:a200:0:5a51:64c9:c681, ...\n",
            "Connecting to farm5.staticflickr.com (farm5.staticflickr.com)|13.227.255.96|:80... connected.\n",
            "HTTP request sent, awaiting response... 301 Moved Permanently\n",
            "Location: https://farm5.staticflickr.com/4105/4981945644_3f162314ed_z.jpg [following]\n",
            "--2023-01-04 20:00:33--  https://farm5.staticflickr.com/4105/4981945644_3f162314ed_z.jpg\n",
            "Connecting to farm5.staticflickr.com (farm5.staticflickr.com)|13.227.255.96|:443... connected.\n",
            "HTTP request sent, awaiting response... 200 OK\n",
            "Length: unspecified [image/jpeg]\n",
            "Saving to: ‘4981945644_3f162314ed_z.jpg’\n",
            "\n",
            "4981945644_3f162314     [ <=>                ] 146.28K  --.-KB/s    in 0.006s  \n",
            "\n",
            "2023-01-04 20:00:33 (24.6 MB/s) - ‘4981945644_3f162314ed_z.jpg’ saved [149791]\n",
            "\n",
            "--2023-01-04 20:00:33--  http://farm1.staticflickr.com/40/101757885_a8fc40e273_z.jpg\n",
            "Resolving farm1.staticflickr.com (farm1.staticflickr.com)... 13.227.255.96, 2600:9000:229f:4000:0:5a51:64c9:c681, 2600:9000:229f:dc00:0:5a51:64c9:c681, ...\n",
            "Connecting to farm1.staticflickr.com (farm1.staticflickr.com)|13.227.255.96|:80... connected.\n",
            "HTTP request sent, awaiting response... 301 Moved Permanently\n",
            "Location: https://farm1.staticflickr.com/40/101757885_a8fc40e273_z.jpg [following]\n",
            "--2023-01-04 20:00:33--  https://farm1.staticflickr.com/40/101757885_a8fc40e273_z.jpg\n",
            "Connecting to farm1.staticflickr.com (farm1.staticflickr.com)|13.227.255.96|:443... connected.\n",
            "HTTP request sent, awaiting response... 200 OK\n",
            "Length: unspecified [image/jpeg]\n",
            "Saving to: ‘101757885_a8fc40e273_z.jpg’\n",
            "\n",
            "101757885_a8fc40e27     [ <=>                ]  98.26K  --.-KB/s    in 0.001s  \n",
            "\n",
            "2023-01-04 20:00:34 (69.5 MB/s) - ‘101757885_a8fc40e273_z.jpg’ saved [100619]\n",
            "\n",
            "--2023-01-04 20:00:34--  http://farm3.staticflickr.com/2654/3897535041_fa8dd5570b_z.jpg\n",
            "Resolving farm3.staticflickr.com (farm3.staticflickr.com)... 13.227.255.96, 2600:9000:229f:4800:0:5a51:64c9:c681, 2600:9000:229f:6c00:0:5a51:64c9:c681, ...\n",
            "Connecting to farm3.staticflickr.com (farm3.staticflickr.com)|13.227.255.96|:80... connected.\n",
            "HTTP request sent, awaiting response... 301 Moved Permanently\n",
            "Location: https://farm3.staticflickr.com/2654/3897535041_fa8dd5570b_z.jpg [following]\n",
            "--2023-01-04 20:00:34--  https://farm3.staticflickr.com/2654/3897535041_fa8dd5570b_z.jpg\n",
            "Connecting to farm3.staticflickr.com (farm3.staticflickr.com)|13.227.255.96|:443... connected.\n",
            "HTTP request sent, awaiting response... 200 OK\n",
            "Length: unspecified [image/jpeg]\n",
            "Saving to: ‘3897535041_fa8dd5570b_z.jpg’\n",
            "\n",
            "3897535041_fa8dd557     [ <=>                ] 126.68K  --.-KB/s    in 0.003s  \n",
            "\n",
            "2023-01-04 20:00:34 (41.0 MB/s) - ‘3897535041_fa8dd5570b_z.jpg’ saved [129723]\n",
            "\n",
            "/content/test_images\n",
            "10105052924_0c8d79e62c_z.jpg  4981945644_3f162314ed_z.jpg\n",
            "101757885_a8fc40e273_z.jpg    6946559805_7edf757660_z.jpg\n",
            "3679968895_37a79e55b3_z.jpg   7705349298_6bea29cf1c_z.jpg\n",
            "3897535041_fa8dd5570b_z.jpg   9520716824_51220b13d0_z.jpg\n"
          ]
        }
      ]
    },
    {
      "cell_type": "markdown",
      "metadata": {
        "id": "FzviTOC-NlH2"
      },
      "source": [
        "# Run Inference on Images\n",
        "Let's run inference. We do that with eval.py"
      ]
    },
    {
      "cell_type": "code",
      "metadata": {
        "id": "2mPeJJ4bNoQy",
        "colab": {
          "base_uri": "https://localhost:8080/"
        },
        "outputId": "b7dea721-4c3a-4c16-c6cf-46698cbf7174"
      },
      "source": [
        "# Move up to the top level directory\n",
        "%cd /content\n",
        "\n",
        "# Delete any previous output_images folder (in case we're running this more than once)\n",
        "!rm /content/output_images -r\n",
        "\n",
        "# Create a new directory for output images\n",
        "!mkdir -p /content/output_images\n",
        "\n",
        "# Run inference using our pre-trained weights on all images in the directory\n",
        "!python ./yolact/eval.py --trained_model=./yolact/weights/yolact_plus_resnet50_54_800000.pth --config=yolact_plus_resnet50_config --score_threshold=0.15 --top_k=15 --images=test_images:output_images"
      ],
      "execution_count": 62,
      "outputs": [
        {
          "output_type": "stream",
          "name": "stdout",
          "text": [
            "/content\n",
            "Loading model...Traceback (most recent call last):\n",
            "  File \"./yolact/eval.py\", line 1097, in <module>\n",
            "    net = Yolact()\n",
            "  File \"/content/yolact/yolact.py\", line 402, in __init__\n",
            "    self.backbone = construct_backbone(cfg.backbone)\n",
            "  File \"/content/yolact/backbone.py\", line 451, in construct_backbone\n",
            "    backbone = cfg.type(*cfg.args)\n",
            "  File \"/content/yolact/backbone.py\", line 83, in __init__\n",
            "    self._make_layer(block, 128, layers[1], stride=2, dcn_layers=dcn_layers[1], dcn_interval=dcn_interval)\n",
            "  File \"/content/yolact/backbone.py\", line 114, in _make_layer\n",
            "    layers.append(block(self.inplanes, planes, stride, downsample, self.norm_layer, self.dilation, use_dcn=use_dcn))\n",
            "  File \"/content/yolact/backbone.py\", line 22, in __init__\n",
            "    self.conv2 = DCN(planes, planes, kernel_size=3, stride=stride,\n",
            "  File \"/content/yolact/backbone.py\", line 11, in DCN\n",
            "    raise Exception('DCN could not be imported. If you want to use YOLACT++ models, compile DCN. Check the README for instructions.')\n",
            "Exception: DCN could not be imported. If you want to use YOLACT++ models, compile DCN. Check the README for instructions.\n"
          ]
        }
      ]
    },
    {
      "cell_type": "markdown",
      "metadata": {
        "id": "ADqPvYayODaQ"
      },
      "source": [
        "## Display Output Images\n",
        "The last step saved output images, so we'll display those now."
      ]
    },
    {
      "cell_type": "code",
      "metadata": {
        "id": "4U2u5-LKOHeV"
      },
      "source": [
        "import cv2\n",
        "import numpy as np\n",
        "from matplotlib import pyplot as plt\n",
        "from pathlib import Path\n",
        "\n",
        "output_images = Path('output_images')\n",
        "\n",
        "def show_image(img_path):\n",
        "  img = cv2.imread(img_path)\n",
        "  img_cvt=cv2.cvtColor(img, cv2.COLOR_BGR2RGB)\n",
        "  plt.figure(figsize=(16,16))\n",
        "  plt.imshow(img_cvt)\n",
        "  plt.show()\n",
        "\n",
        "# Iterate through all of the output images and display them\n",
        "for img_path in output_images.iterdir():\n",
        "  print(img_path)\n",
        "  show_image(str(img_path))"
      ],
      "execution_count": 63,
      "outputs": []
    },
    {
      "cell_type": "markdown",
      "metadata": {
        "id": "tFbdr7LvIQAU"
      },
      "source": [
        "If you'd like to process your own video, you can modify the steps below."
      ]
    },
    {
      "cell_type": "code",
      "metadata": {
        "id": "ISbrP30ZQNya"
      },
      "source": [
        "# Make a new directory for the test images\n",
        "!mkdir -p /content/test_video\n",
        "\n",
        "# Move to the top level directory\n",
        "%cd /content\n",
        "\n",
        "# Download the file\n",
        "# https://drive.google.com/file/d/1I4fivRLniVNt_LcWqhQNehTSdEkZ4ytW/view?usp=sharing\n",
        "# Note that file_id is extracted from the share URL above, it'll be different for every file\n",
        "file_id = \"1I4fivRLniVNt_LcWqhQNehTSdEkZ4ytW\"\n",
        "file_path = \"/content/test_video/giraffes_full_720.mp4\" # <- this is the destination path\n",
        "\n",
        "!python /content/download_google_drive/download_gdrive.py {file_id} {file_path}\n",
        "\n",
        "!ls /content/test_video"
      ],
      "execution_count": null,
      "outputs": []
    },
    {
      "cell_type": "markdown",
      "metadata": {
        "id": "rl4CgdmtQxQL"
      },
      "source": [
        "Now we run inference."
      ]
    },
    {
      "cell_type": "code",
      "metadata": {
        "id": "5BBQqP3FQ0wN",
        "colab": {
          "base_uri": "https://localhost:8080/"
        },
        "outputId": "d5010244-ca87-438c-89cc-cec8d4f4e90c"
      },
      "source": [
        "%cd /content\n",
        "!mkdir -p /content/output_videos\n",
        "output_path = \"/content/output_videos/giraffes_full_720_output.mp4\"\n",
        "!python ./yolact/eval.py --trained_model=./yolact/weights/yolact_plus_resnet50_54_800000.pth --score_threshold=0.15 --top_k=15 --video_multiframe=4 --video={file_path}:{output_path}"
      ],
      "execution_count": 64,
      "outputs": [
        {
          "output_type": "stream",
          "name": "stdout",
          "text": [
            "/content\n",
            "Config not specified. Parsed yolact_plus_resnet50_config from the file name.\n",
            "\n",
            "Loading model...Traceback (most recent call last):\n",
            "  File \"./yolact/eval.py\", line 1097, in <module>\n",
            "    net = Yolact()\n",
            "  File \"/content/yolact/yolact.py\", line 402, in __init__\n",
            "    self.backbone = construct_backbone(cfg.backbone)\n",
            "  File \"/content/yolact/backbone.py\", line 451, in construct_backbone\n",
            "    backbone = cfg.type(*cfg.args)\n",
            "  File \"/content/yolact/backbone.py\", line 83, in __init__\n",
            "    self._make_layer(block, 128, layers[1], stride=2, dcn_layers=dcn_layers[1], dcn_interval=dcn_interval)\n",
            "  File \"/content/yolact/backbone.py\", line 114, in _make_layer\n",
            "    layers.append(block(self.inplanes, planes, stride, downsample, self.norm_layer, self.dilation, use_dcn=use_dcn))\n",
            "  File \"/content/yolact/backbone.py\", line 22, in __init__\n",
            "    self.conv2 = DCN(planes, planes, kernel_size=3, stride=stride,\n",
            "  File \"/content/yolact/backbone.py\", line 11, in DCN\n",
            "    raise Exception('DCN could not be imported. If you want to use YOLACT++ models, compile DCN. Check the README for instructions.')\n",
            "Exception: DCN could not be imported. If you want to use YOLACT++ models, compile DCN. Check the README for instructions.\n"
          ]
        }
      ]
    },
    {
      "cell_type": "markdown",
      "metadata": {
        "id": "4q2BWxoHQ9Ip"
      },
      "source": [
        "## Download the output file\n",
        "In this part, we'll mount your Google Drive and you can copy the file somewhere over there. I tried using the google.colab.files library to download the file, but it doesn't seem to like big video files.\n",
        "\n",
        "- You will need to authorize your Drive to connect, then it basically just links your drive as if it's a folder on this cloud computer.\n",
        "- **Be careful** because if you start deleting/modifying files in this folder, you will modify your personal Google Drive.\n"
      ]
    },
    {
      "cell_type": "code",
      "metadata": {
        "id": "Vm6PXYajQ5ib"
      },
      "source": [
        "from google.colab import drive\n",
        "drive.mount('/content/drive')"
      ],
      "execution_count": null,
      "outputs": []
    },
    {
      "cell_type": "code",
      "metadata": {
        "id": "4Q-UPar6WJdh"
      },
      "source": [
        "!mkdir -p /content/drive/My\\ Drive/YOLACT_output\n",
        "%cd /content/drive/My\\ Drive/YOLACT_output\n",
        "!ls"
      ],
      "execution_count": null,
      "outputs": []
    },
    {
      "cell_type": "code",
      "metadata": {
        "id": "OkyUSDSSXTFp"
      },
      "source": [
        "!cp {output_path} /content/drive/My\\ Drive/YOLACT_output/giraffes_full_720_output.mp4"
      ],
      "execution_count": null,
      "outputs": []
    }
  ]
}